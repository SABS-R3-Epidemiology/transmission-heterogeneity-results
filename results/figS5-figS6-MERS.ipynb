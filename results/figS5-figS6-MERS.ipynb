{
 "cells": [
  {
   "cell_type": "code",
   "execution_count": 1,
   "id": "daily-rugby",
   "metadata": {},
   "outputs": [],
   "source": [
    "# Import libraries\n",
    "import numpy as np\n",
    "import branchpro\n",
    "import scipy.stats\n",
    "import plotly.graph_objects as go\n",
    "from matplotlib import pyplot as plt\n",
    "import os\n",
    "import pandas as pd\n",
    "import datetime"
   ]
  },
  {
   "cell_type": "code",
   "execution_count": 2,
   "id": "valuable-bacteria",
   "metadata": {},
   "outputs": [],
   "source": [
    "# Read serial interval\n",
    "path = '../data_library/serial_interval/si-mers.csv'\n",
    "serial_interval = pd.read_csv(path, header=None)\n",
    "serial_interval = serial_interval.fillna(0)\n",
    "serial_intervals = serial_interval.values.T\n",
    "serial_intervals = list(serial_intervals[0])[1:]"
   ]
  },
  {
   "cell_type": "code",
   "execution_count": 3,
   "id": "modular-cable",
   "metadata": {},
   "outputs": [],
   "source": [
    "# Read MERS data\n",
    "path = '../data_library/processed_data/mers/MERSData.csv'\n",
    "data = pd.read_csv(path)\n",
    "\n",
    "# Switch the first day data to imported\n",
    "# This step was performed in the original paper\n",
    "data.iloc[0, 1] = 0\n",
    "data.iloc[0, 2] = 1"
   ]
  },
  {
   "cell_type": "code",
   "execution_count": 4,
   "id": "clinical-factor",
   "metadata": {},
   "outputs": [],
   "source": [
    "# R_t inference, same as COVID notebooks\n",
    "time_key = 'Time'\n",
    "num_timepoints = max(data[time_key])\n",
    "data_times = data[time_key]\n",
    "\n",
    "locally_infected_cases = data['Incidence Number']\n",
    "imported_cases = data['Imported Cases']\n",
    "\n",
    "start_times = np.arange(1, num_timepoints+1, dtype=int)\n",
    "times = np.arange(num_timepoints+1)\n",
    "\n",
    "# Same inference, but using the LocImpBranchProPosterior\n",
    "tau = 27\n",
    "R_t_start = tau+1\n",
    "a = 1\n",
    "b = 0.2\n",
    "\n",
    "prior_dist = scipy.stats.gamma(a, scale=1/b)\n",
    "median = prior_dist.median()\n",
    "\n",
    "# Run inferences for different values of epsilon\n",
    "column_names = ['Time Points', 'Mean', 'Lower bound CI', 'Upper bound CI', 'Central Probability', 'Epsilon']\n",
    "sparse_epsilon_range = [0.25, 1.0, 2.0]\n",
    "large_epsilon_range = np.arange(0.1, 2.5, 0.1)\n",
    "\n",
    "inc_data = pd.DataFrame(\n",
    "    {\n",
    "        'Time': start_times,\n",
    "        'Incidence Number': locally_infected_cases\n",
    "    }\n",
    ")\n",
    "\n",
    "imported_inc_data = pd.DataFrame(\n",
    "    {\n",
    "        'Time': start_times,\n",
    "        'Incidence Number': imported_cases\n",
    "    }\n",
    ")\n",
    "\n",
    "all_intervals = []\n",
    "all_df = pd.DataFrame(columns=column_names)\n",
    "for epsilon in sparse_epsilon_range:\n",
    "    inference = branchpro.LocImpBranchProPosterior(\n",
    "        inc_data=inc_data,\n",
    "        imported_inc_data=imported_inc_data,\n",
    "        epsilon=epsilon,\n",
    "        daily_serial_interval=serial_intervals,\n",
    "        alpha=a,\n",
    "        beta=b)\n",
    "\n",
    "    inference.run_inference(tau=tau)\n",
    "    intervals = inference.get_intervals(central_prob=.95)\n",
    "    \n",
    "    intervals['Epsilon'] = [epsilon] * len(intervals.index)\n",
    "    all_intervals.append(intervals)\n",
    "    all_df = all_df.append(intervals)\n",
    "    \n",
    "inference_times = sorted(list(set(intervals['Time Points'].tolist())))\n",
    "\n",
    "proportion_time_r_more_than_1 = []\n",
    "proportion_time_r_more_than_1_LowerCI = []\n",
    "proportion_time_r_more_than_1_UpperCI = []\n",
    "large_all_intervals = pd.DataFrame(columns=column_names)\n",
    "for epsilon in large_epsilon_range:\n",
    "    inference = branchpro.LocImpBranchProPosterior(\n",
    "        inc_data=inc_data,\n",
    "        imported_inc_data=imported_inc_data,\n",
    "        epsilon=epsilon,\n",
    "        daily_serial_interval=serial_intervals,\n",
    "        alpha=a,\n",
    "        beta=b)\n",
    "\n",
    "    inference.run_inference(tau=tau)\n",
    "\n",
    "    # Proportion time R > 1\n",
    "    mean, lower, upper = inference.proportion_time_r_more_than_1(.95)\n",
    "    proportion_time_r_more_than_1.append(mean)\n",
    "    proportion_time_r_more_than_1_LowerCI.append(lower)\n",
    "    proportion_time_r_more_than_1_UpperCI.append(upper)\n",
    "    \n",
    "    intervals = inference.get_intervals(central_prob=.95)\n",
    "    intervals['Epsilon'] = [epsilon] * len(intervals.index)\n",
    "    large_all_intervals = large_all_intervals.append(intervals)\n"
   ]
  },
  {
   "cell_type": "code",
   "execution_count": 6,
   "id": "incomplete-bhutan",
   "metadata": {},
   "outputs": [
    {
     "ename": "TypeError",
     "evalue": "plot_regions_inference() got an unexpected keyword argument 'mers'",
     "output_type": "error",
     "traceback": [
      "\u001b[0;31m---------------------------------------------------------------------------\u001b[0m",
      "\u001b[0;31mTypeError\u001b[0m                                 Traceback (most recent call last)",
      "\u001b[0;32m/tmp/ipykernel_1474593/1493045627.py\u001b[0m in \u001b[0;36m<module>\u001b[0;34m\u001b[0m\n\u001b[1;32m      1\u001b[0m \u001b[0msparse_epsilon_range\u001b[0m \u001b[0;34m=\u001b[0m \u001b[0;34m[\u001b[0m\u001b[0;36m0.25\u001b[0m\u001b[0;34m,\u001b[0m \u001b[0;36m1\u001b[0m\u001b[0;34m,\u001b[0m \u001b[0;36m2\u001b[0m\u001b[0;34m]\u001b[0m\u001b[0;34m\u001b[0m\u001b[0;34m\u001b[0m\u001b[0m\n\u001b[1;32m      2\u001b[0m \u001b[0;34m\u001b[0m\u001b[0m\n\u001b[0;32m----> 3\u001b[0;31m fig = branchpro.figures.plot_regions_inference(\n\u001b[0m\u001b[1;32m      4\u001b[0m     \u001b[0mdatetime\u001b[0m\u001b[0;34m.\u001b[0m\u001b[0mdatetime\u001b[0m\u001b[0;34m(\u001b[0m\u001b[0;36m2014\u001b[0m\u001b[0;34m,\u001b[0m \u001b[0;36m8\u001b[0m\u001b[0;34m,\u001b[0m \u001b[0;36m11\u001b[0m\u001b[0;34m)\u001b[0m\u001b[0;34m,\u001b[0m\u001b[0;34m\u001b[0m\u001b[0;34m\u001b[0m\u001b[0m\n\u001b[1;32m      5\u001b[0m     \u001b[0;34m[\u001b[0m\u001b[0;34m'MERS (Saudi Arabia)'\u001b[0m\u001b[0;34m,\u001b[0m\u001b[0;34m]\u001b[0m\u001b[0;34m,\u001b[0m\u001b[0;34m\u001b[0m\u001b[0;34m\u001b[0m\u001b[0m\n",
      "\u001b[0;31mTypeError\u001b[0m: plot_regions_inference() got an unexpected keyword argument 'mers'"
     ]
    }
   ],
   "source": [
    "sparse_epsilon_range = [0.25, 1, 2]\n",
    "\n",
    "fig = branchpro.figures.plot_regions_inference(\n",
    "    datetime.datetime(2014, 8, 11),\n",
    "    ['MERS (Saudi Arabia)',],\n",
    "    [locally_infected_cases,],\n",
    "    [imported_cases],\n",
    "    datetime.datetime(2014, 8, 11) + datetime.timedelta(days=inference_times[0]-1),\n",
    "    list(sparse_epsilon_range),\n",
    "    [all_intervals],\n",
    "    default_epsilon=1,\n",
    "    show=False,\n",
    "    mers=True)\n",
    "\n",
    "fig.set_size_inches(9, 5)\n",
    "axs = fig.get_axes()\n",
    "\n",
    "axs[0].set_xticks([datetime.datetime(2014, 8, 11) + datetime.timedelta(days=int(i))\n",
    "                  for i in range(len(locally_infected_cases))][::28])\n",
    "\n",
    "axs[1].set_xticks([datetime.datetime(2014, 8, 11) + datetime.timedelta(days=int(i))\n",
    "                      for i in range(len(locally_infected_cases))][::28])\n",
    "\n",
    "plt.savefig('../figures/Figure_S5_mers_inference.pdf')"
   ]
  },
  {
   "cell_type": "code",
   "execution_count": 7,
   "id": "crude-timothy",
   "metadata": {},
   "outputs": [
    {
     "ename": "TypeError",
     "evalue": "plot_r_heatmap() got an unexpected keyword argument 'figsize'",
     "output_type": "error",
     "traceback": [
      "\u001b[0;31m---------------------------------------------------------------------------\u001b[0m",
      "\u001b[0;31mTypeError\u001b[0m                                 Traceback (most recent call last)",
      "\u001b[0;32m/tmp/ipykernel_1474593/2572076780.py\u001b[0m in \u001b[0;36m<module>\u001b[0;34m\u001b[0m\n\u001b[0;32m----> 1\u001b[0;31m fig = branchpro.figures.plot_r_heatmap(\n\u001b[0m\u001b[1;32m      2\u001b[0m     \u001b[0;34m[\u001b[0m\u001b[0;34m'MERS (Saudi Arabia)'\u001b[0m\u001b[0;34m,\u001b[0m\u001b[0;34m]\u001b[0m\u001b[0;34m,\u001b[0m\u001b[0;34m\u001b[0m\u001b[0;34m\u001b[0m\u001b[0m\n\u001b[1;32m      3\u001b[0m     \u001b[0mlarge_epsilon_range\u001b[0m\u001b[0;34m,\u001b[0m\u001b[0;34m\u001b[0m\u001b[0;34m\u001b[0m\u001b[0m\n\u001b[1;32m      4\u001b[0m     \u001b[0;34m[\u001b[0m\u001b[0mlarge_all_intervals\u001b[0m\u001b[0;34m,\u001b[0m\u001b[0;34m]\u001b[0m\u001b[0;34m,\u001b[0m\u001b[0;34m\u001b[0m\u001b[0;34m\u001b[0m\u001b[0m\n\u001b[1;32m      5\u001b[0m     \u001b[0mdatetime\u001b[0m\u001b[0;34m.\u001b[0m\u001b[0mdatetime\u001b[0m\u001b[0;34m(\u001b[0m\u001b[0;36m2014\u001b[0m\u001b[0;34m,\u001b[0m \u001b[0;36m8\u001b[0m\u001b[0;34m,\u001b[0m \u001b[0;36m11\u001b[0m\u001b[0;34m)\u001b[0m \u001b[0;34m+\u001b[0m \u001b[0mdatetime\u001b[0m\u001b[0;34m.\u001b[0m\u001b[0mtimedelta\u001b[0m\u001b[0;34m(\u001b[0m\u001b[0mdays\u001b[0m\u001b[0;34m=\u001b[0m\u001b[0minference_times\u001b[0m\u001b[0;34m[\u001b[0m\u001b[0;36m0\u001b[0m\u001b[0;34m]\u001b[0m\u001b[0;34m-\u001b[0m\u001b[0;36m1\u001b[0m\u001b[0;34m)\u001b[0m\u001b[0;34m,\u001b[0m\u001b[0;34m\u001b[0m\u001b[0;34m\u001b[0m\u001b[0m\n",
      "\u001b[0;31mTypeError\u001b[0m: plot_r_heatmap() got an unexpected keyword argument 'figsize'"
     ]
    }
   ],
   "source": [
    "fig = branchpro.figures.plot_r_heatmap(\n",
    "    ['MERS (Saudi Arabia)',],\n",
    "    large_epsilon_range,\n",
    "    [large_all_intervals,],\n",
    "    datetime.datetime(2014, 8, 11) + datetime.timedelta(days=inference_times[0]-1),\n",
    "    show=False,\n",
    "    figsize=(9, 5),\n",
    "    max_R=7.5,\n",
    "    aspect=5,\n",
    "    date_interval=56)\n",
    "\n",
    "plt.savefig('../figures/Figure_S6a_mers_inference_heatmap.pdf')"
   ]
  },
  {
   "cell_type": "code",
   "execution_count": 8,
   "id": "accompanied-sense",
   "metadata": {},
   "outputs": [
    {
     "data": {
      "image/png": "[encoded data removed]",
      "text/plain": [
       "<Figure size 288x216 with 1 Axes>"
      ]
     },
     "metadata": {
      "needs_background": "light"
     },
     "output_type": "display_data"
    }
   ],
   "source": [
    "# Run the inference at a finer grid of epsilons\n",
    "fig = plt.figure(figsize=(4, 3))\n",
    "ax = fig.add_subplot(1, 1, 1)\n",
    "ax.plot(large_epsilon_range, proportion_time_r_more_than_1, color='gray', label='Mean')\n",
    "ax.plot(large_epsilon_range, proportion_time_r_more_than_1_LowerCI, color='gold', ls='--', label='2.5th percentile')\n",
    "ax.plot(large_epsilon_range, proportion_time_r_more_than_1_UpperCI, color='green', ls='--', label='97.5th percentile')\n",
    "ax.set_xlabel('Relative transmissibility of imported cases (ϵ)')\n",
    "ax.set_ylabel('Proportion of time ' + r'$R_t>1$')\n",
    "ax.legend()\n",
    "ax.spines['right'].set_visible(False)\n",
    "ax.spines['top'].set_visible(False)\n",
    "fig.set_tight_layout(True)\n",
    "\n",
    "plt.savefig('../figures/Figure_S6b_mers_Rt_proportion.pdf')"
   ]
  },
  {
   "cell_type": "code",
   "execution_count": null,
   "id": "military-september",
   "metadata": {},
   "outputs": [],
   "source": []
  }
 ],
 "metadata": {
  "kernelspec": {
   "display_name": "Python 3 (ipykernel)",
   "language": "python",
   "name": "python3"
  },
  "language_info": {
   "codemirror_mode": {
    "name": "ipython",
    "version": 3
   },
   "file_extension": ".py",
   "mimetype": "text/x-python",
   "name": "python",
   "nbconvert_exporter": "python",
   "pygments_lexer": "ipython3",
   "version": "3.8.10"
  },
  "widgets": {
   "application/vnd.jupyter.widget-state+json": {
    "state": {},
    "version_major": 2,
    "version_minor": 0
   }
  }
 },
 "nbformat": 4,
 "nbformat_minor": 5
}
